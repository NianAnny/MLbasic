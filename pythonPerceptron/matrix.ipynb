{
 "cells": [
  {
   "cell_type": "code",
   "execution_count": 9,
   "metadata": {},
   "outputs": [
    {
     "data": {
      "text/latex": [
       "$\\displaystyle \\left[\\begin{matrix}\\cos{\\left(\\alpha \\right)} \\cos{\\left(\\beta \\right)} & - \\sin{\\left(\\alpha \\right)} \\cos{\\left(\\beta \\right)} \\cos{\\left(\\gamma \\right)} + \\sin{\\left(\\beta \\right)} \\sin{\\left(\\gamma \\right)} & \\sin{\\left(\\alpha \\right)} \\sin{\\left(\\gamma \\right)} \\cos{\\left(\\beta \\right)} + \\sin{\\left(\\beta \\right)} \\cos{\\left(\\gamma \\right)}\\\\\\sin{\\left(\\alpha \\right)} & \\cos{\\left(\\alpha \\right)} \\cos{\\left(\\gamma \\right)} & - \\sin{\\left(\\gamma \\right)} \\cos{\\left(\\alpha \\right)}\\\\- \\sin{\\left(\\beta \\right)} \\cos{\\left(\\alpha \\right)} & \\sin{\\left(\\alpha \\right)} \\sin{\\left(\\beta \\right)} \\cos{\\left(\\gamma \\right)} + \\sin{\\left(\\gamma \\right)} \\cos{\\left(\\beta \\right)} & - \\sin{\\left(\\alpha \\right)} \\sin{\\left(\\beta \\right)} \\sin{\\left(\\gamma \\right)} + \\cos{\\left(\\beta \\right)} \\cos{\\left(\\gamma \\right)}\\end{matrix}\\right]$"
      ],
      "text/plain": [
       "Matrix([\n",
       "[ cos(alpha)*cos(beta), -sin(alpha)*cos(beta)*cos(gamma) + sin(beta)*sin(gamma),  sin(alpha)*sin(gamma)*cos(beta) + sin(beta)*cos(gamma)],\n",
       "[           sin(alpha),                                   cos(alpha)*cos(gamma),                                  -sin(gamma)*cos(alpha)],\n",
       "[-sin(beta)*cos(alpha),  sin(alpha)*sin(beta)*cos(gamma) + sin(gamma)*cos(beta), -sin(alpha)*sin(beta)*sin(gamma) + cos(beta)*cos(gamma)]])"
      ]
     },
     "execution_count": 9,
     "metadata": {},
     "output_type": "execute_result"
    }
   ],
   "source": [
    "import sympy as sp \n",
    "alpha, beta, gamma = sp.symbols('alpha beta gamma')\n",
    "matrix1 = sp.Matrix([[sp.cos(beta), 0, sp.sin(beta)],\n",
    "                    [0,1,0],\n",
    "                    [-sp.sin(beta), 0, sp.cos(beta)]])\n",
    "matrix2 = sp.Matrix([[sp.cos(alpha), -sp.sin(alpha), 0],\n",
    "                     [sp.sin(alpha), sp.cos(alpha), 0],\n",
    "                     [0,0,1]])\n",
    "matrix3=sp.Matrix([[1,0,0],\n",
    "                   [0,sp.cos(gamma), -sp.sin(gamma)],\n",
    "                   [0, sp.sin(gamma), sp.cos(gamma)]])\n",
    "result = matrix1 * matrix2 * matrix3\n",
    "result"
   ]
  },
  {
   "cell_type": "code",
   "execution_count": null,
   "metadata": {},
   "outputs": [],
   "source": []
  }
 ],
 "metadata": {
  "kernelspec": {
   "display_name": "Python 3",
   "language": "python",
   "name": "python3"
  },
  "language_info": {
   "codemirror_mode": {
    "name": "ipython",
    "version": 3
   },
   "file_extension": ".py",
   "mimetype": "text/x-python",
   "name": "python",
   "nbconvert_exporter": "python",
   "pygments_lexer": "ipython3",
   "version": "3.12.3"
  }
 },
 "nbformat": 4,
 "nbformat_minor": 2
}
